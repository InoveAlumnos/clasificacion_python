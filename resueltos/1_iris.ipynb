{
  "cells": [
    {
      "cell_type": "markdown",
      "metadata": {
        "id": "Ea9CPlvttQda"
      },
      "source": [
        "<a href=\"https://www.inove.com.ar\"><img src=\"https://raw.githubusercontent.com/InoveAlumnos/dataset_analytics_python/master/images/PA%20Banner.png\" width=\"1000\" align=\"center\"></a>\n",
        "\n",
        "\n",
        "# Clasificación de las flores Iris\n",
        "\n",
        "Crear un modelo de clasificación para la estimación de la espacie de iris<br>\n",
        "v1.1"
      ]
    },
    {
      "cell_type": "markdown",
      "metadata": {
        "id": "jxYzK15jk-xe"
      },
      "source": [
        "<a href=\"https://www.inove.com.ar\"><img src=\"https://raw.githubusercontent.com/InoveAlumnos/dataset_analytics_python/master/iris_dataset.png\" width=\"1000\" align=\"center\"></a>"
      ]
    },
    {
      "cell_type": "code",
      "execution_count": null,
      "metadata": {
        "id": "xJN8ND5ctQdc"
      },
      "outputs": [],
      "source": [
        "import os\n",
        "import platform\n",
        "\n",
        "import numpy as np\n",
        "import matplotlib.pyplot as plt\n",
        "import seaborn as sns\n",
        "import pandas as pd\n",
        "\n",
        "from  sklearn import  datasets"
      ]
    },
    {
      "cell_type": "markdown",
      "metadata": {
        "id": "v-jK-TsQCwW9"
      },
      "source": [
        "# Recolectar datos\n",
        "<div align=\"center\"><img src=\"https://raw.githubusercontent.com/InoveAlumnos/dataset_analytics_python/master/images/Pipeline1.png\" width=\"1000\" align=\"middle\"></div>"
      ]
    },
    {
      "cell_type": "code",
      "execution_count": null,
      "metadata": {
        "id": "j9x_YEdTtQeC",
        "tags": []
      },
      "outputs": [],
      "source": [
        "iris=datasets.load_iris()\n",
        "df_data = pd.DataFrame(data= iris.data, columns= iris.feature_names)\n",
        "df_target = pd.DataFrame(data= iris.target, columns= ['species'])\n",
        "print(df_data.head())\n",
        "print(df_target.head())"
      ]
    },
    {
      "cell_type": "code",
      "execution_count": null,
      "metadata": {
        "id": "GofGC6M_eYS8"
      },
      "outputs": [],
      "source": [
        "# Generar una copia de df_target llamada \"df_target_categorical\" en el cual se almacenará los tipos de iris como variables categóricas (texto)\n",
        "df_target_categorical = df_target.copy()"
      ]
    },
    {
      "cell_type": "markdown",
      "metadata": {
        "id": "Q5I6l8ZCFaZ8"
      },
      "source": [
        "# Procesar datos\n",
        "<div align=\"center\"><img src=\"https://raw.githubusercontent.com/InoveAlumnos/dataset_analytics_python/master/images/Pipeline2.png\" width=\"1000\" align=\"middle\"></div>"
      ]
    },
    {
      "cell_type": "code",
      "execution_count": null,
      "metadata": {
        "id": "4RGDkJS_bLw5"
      },
      "outputs": [],
      "source": [
        "# Alumno: Utilizar apply y lambda expresion sobre df_target para modificar la columna \"species\" de df_target_categorical\n",
        "# la lambda debe devolver:\n",
        "# setosa --> si species = 0\n",
        "# versicolor --> si species = 1\n",
        "# virginica --> si species = 2\n",
        "\n",
        "# Tip:\n",
        "# df_target_categorical['species'] = df_target.apply(lambda...... \n",
        "df_target_categorical['species'] = df_target.apply(lambda x: 'setosa' if x.species == 0 else 'versicolor' if x.species == 1 else 'virginica', axis=1)"
      ]
    },
    {
      "cell_type": "code",
      "execution_count": null,
      "metadata": {
        "id": "J780B25md6Tu"
      },
      "outputs": [],
      "source": [
        "# Alumno: Observar las primeras filas del nuevo df_target_categorical para corroborar que haya sido correcto el cambio\n",
        "df_target_categorical.head()"
      ]
    },
    {
      "cell_type": "code",
      "execution_count": null,
      "metadata": {
        "id": "sgClA-ymdAlq"
      },
      "outputs": [],
      "source": [
        "# Alumno: Contar cuantas especies de iris hay de cada una en el dataset df_target_categorical\n",
        "df_target_categorical['species'].value_counts()"
      ]
    },
    {
      "cell_type": "code",
      "execution_count": null,
      "metadata": {
        "id": "fhzTh4LlcUni"
      },
      "outputs": [],
      "source": [
        "# Concatenar ambos dataset\n",
        "df = pd.concat([df_data, df_target_categorical], axis= 1)\n",
        "df.head()"
      ]
    },
    {
      "cell_type": "code",
      "execution_count": null,
      "metadata": {
        "id": "NN-AOOTee11Z"
      },
      "outputs": [],
      "source": [
        "# Alumno: Analice si hay elementos incompletos en el dataset \"df_data\" o \"df_target\"\n",
        "des = df.describe()\n",
        "des.loc['Nan'] = df.isna().sum()\n",
        "des.loc['%Nan'] = (df.isna().mean())*100\n",
        "des"
      ]
    },
    {
      "cell_type": "code",
      "execution_count": null,
      "metadata": {
        "id": "x88JG9AOeJzx"
      },
      "outputs": [],
      "source": [
        "# Alumno: ¿Cuántas filas/datos hay para analizar?\n",
        "print('Datos disponibles para analizar: ', df.shape[0])"
      ]
    },
    {
      "cell_type": "markdown",
      "metadata": {
        "id": "8T_3enyVHYJa"
      },
      "source": [
        "# Explorar datos\n",
        "<div align=\"center\"><img src=\"https://raw.githubusercontent.com/InoveAlumnos/dataset_analytics_python/master/images/Pipeline3.png\" width=\"1000\" align=\"middle\"></div>"
      ]
    },
    {
      "cell_type": "code",
      "execution_count": null,
      "metadata": {
        "id": "AT6v5vGXhfTl"
      },
      "outputs": [],
      "source": [
        "# Observar todas las relaciones entre todos los features\n",
        "sns.pairplot(df, hue= 'species')\n",
        "plt.show()"
      ]
    },
    {
      "cell_type": "code",
      "execution_count": null,
      "metadata": {
        "id": "05StrC505uSg"
      },
      "outputs": [],
      "source": [
        "# Para la clasificación utilizaremos todos los features de entrada\n",
        "# pero utilizaremos este gráfico en particular para ver como\n",
        "# performa el clasificador\n",
        "sns.scatterplot(x=df['petal length (cm)'], y=df['petal width (cm)'], hue=df['species'])\n",
        "plt.show()"
      ]
    },
    {
      "cell_type": "markdown",
      "metadata": {
        "id": "2gRIv88AKfQY"
      },
      "source": [
        "# Entrenar modelo\n",
        "<div align=\"center\"><img src=\"https://raw.githubusercontent.com/InoveAlumnos/dataset_analytics_python/master/images/Pipeline4.png\" width=\"1000\" align=\"middle\"></div>"
      ]
    },
    {
      "cell_type": "code",
      "execution_count": null,
      "metadata": {
        "id": "vstdWr9uiMEr"
      },
      "outputs": [],
      "source": [
        "# Almuno: Crear un numpy array \"X\" con los features de entrada (todos excepto species)\n",
        "# Crear un numpy array \"Y\" de la columna species\n",
        "X = df.drop('species', axis=1).values\n",
        "y = df['species'].values"
      ]
    },
    {
      "cell_type": "code",
      "execution_count": null,
      "metadata": {
        "id": "K51_dOocKUlX"
      },
      "outputs": [],
      "source": [
        "# Alumno: Cree los dataset de entrenamiento (train) y evaluación (test)\n",
        "# utilizando la herramienta train_test_split de scikit-learn, utilice la proporción\n",
        "# 70%30%\n",
        "from sklearn.model_selection import train_test_split\n",
        "X_train, X_test, y_train, y_test = train_test_split(X, y, test_size=0.3, random_state=42)"
      ]
    },
    {
      "cell_type": "code",
      "execution_count": null,
      "metadata": {
        "id": "fivxbc9PEFOu"
      },
      "outputs": [],
      "source": [
        "# Alumno: Entrenar un clasificador utilizando algunos de los siguientes algoritmos\n",
        "# - Random forest\n",
        "# - KNN\n",
        "# - SVM\n",
        "from sklearn.neighbors import KNeighborsClassifier\n",
        "clf = KNeighborsClassifier(n_neighbors=5).fit(X_train, y_train)\n",
        "y_hat = clf.predict(X_test)"
      ]
    },
    {
      "cell_type": "markdown",
      "metadata": {
        "id": "Y1HVAZeONzsu"
      },
      "source": [
        "# Validar modelo\n",
        "<img src=\"https://raw.githubusercontent.com/InoveAlumnos/dataset_analytics_python/master/images/Pipeline5.png\" width=\"1000\" align=\"middle\">"
      ]
    },
    {
      "cell_type": "code",
      "execution_count": null,
      "metadata": {
        "id": "SNyj1SjfMZso"
      },
      "outputs": [],
      "source": [
        "# Alumno: Calcular la exactitud (accuracy) del modelo base\n",
        "from sklearn.metrics import accuracy_score\n",
        "accuracy_score(y_test, y_hat, normalize=True)"
      ]
    },
    {
      "cell_type": "code",
      "execution_count": null,
      "metadata": {
        "id": "Ic77lOH1N5-u"
      },
      "outputs": [],
      "source": [
        "# Alumno: Calcular la exactitud (accuracy) del clasificador\n",
        "from sklearn.metrics import accuracy_score\n",
        "accuracy_score(y_test, y_hat, normalize=True)"
      ]
    },
    {
      "cell_type": "code",
      "execution_count": null,
      "metadata": {
        "id": "WBx2Zv6QK-pm"
      },
      "outputs": [],
      "source": [
        "# Dibujar la matriz de confusión con y_test e y_hat_base. Colocar los \"labels\" (titulos) correspondientes\n",
        "from sklearn.metrics import confusion_matrix, ConfusionMatrixDisplay\n",
        "cm = confusion_matrix(y_test, y_hat)\n",
        "cmd = ConfusionMatrixDisplay(cm, display_labels=clf.classes_)\n",
        "cmd.plot(cmap=plt.cm.Blues)\n",
        "plt.show()"
      ]
    },
    {
      "cell_type": "markdown",
      "metadata": {
        "id": "JZZbCJICOFjb"
      },
      "source": [
        "# Utilizar modelo\n",
        "<img src=\"https://raw.githubusercontent.com/InoveAlumnos/dataset_analytics_python/master/images/Pipeline6.png\" width=\"1000\" align=\"middle\">"
      ]
    },
    {
      "cell_type": "code",
      "execution_count": null,
      "metadata": {
        "id": "Si_GLqaRN-nK"
      },
      "outputs": [],
      "source": [
        "# Alumno: realice la predicción de todos los \"X\" con su clasificador para obtener\n",
        "# \"y_graficar\"\n",
        "y_graficar = clf.predict(X)"
      ]
    },
    {
      "cell_type": "code",
      "execution_count": null,
      "metadata": {
        "id": "_64zRkAlMK6v"
      },
      "outputs": [],
      "source": [
        "# Alumno, volver a realizar el gráfico del scatter con las 3 especies, pero ahora\n",
        "# utilice en el parámetro \"hue\" el y_graficar \"calculado\"\n",
        "sns.scatterplot(x=df['petal length (cm)'], y=df['petal width (cm)'], hue=y_graficar)\n",
        "plt.show()"
      ]
    }
  ],
  "metadata": {
    "colab": {
      "provenance": [],
      "toc_visible": true
    },
    "kernelspec": {
      "display_name": "Python 3",
      "language": "python",
      "name": "python3"
    },
    "language_info": {
      "codemirror_mode": {
        "name": "ipython",
        "version": 3
      },
      "file_extension": ".py",
      "mimetype": "text/x-python",
      "name": "python",
      "nbconvert_exporter": "python",
      "pygments_lexer": "ipython3",
      "version": "3.7.0"
    }
  },
  "nbformat": 4,
  "nbformat_minor": 0
}